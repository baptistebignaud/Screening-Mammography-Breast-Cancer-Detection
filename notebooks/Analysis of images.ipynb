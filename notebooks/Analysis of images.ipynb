{
 "cells": [
  {
   "cell_type": "markdown",
   "id": "829799d8-28f3-41b9-ac03-e258916817cd",
   "metadata": {},
   "source": [
    "# Analysis of images"
   ]
  },
  {
   "cell_type": "code",
   "execution_count": null,
   "id": "274d300a-645b-4590-9324-b0eefa1f077a",
   "metadata": {},
   "outputs": [],
   "source": []
  },
  {
   "cell_type": "code",
   "execution_count": null,
   "id": "348229a6-8a0c-47b0-9328-41ea81294831",
   "metadata": {},
   "outputs": [],
   "source": []
  },
  {
   "cell_type": "code",
   "execution_count": null,
   "id": "d005a51b-8b39-449e-9c96-4064c6d62d8b",
   "metadata": {},
   "outputs": [],
   "source": []
  }
 ],
 "metadata": {
  "kernelspec": {
   "display_name": "Python 3 (ipykernel)",
   "language": "python",
   "name": "python3"
  },
  "language_info": {
   "codemirror_mode": {
    "name": "ipython",
    "version": 3
   },
   "file_extension": ".py",
   "mimetype": "text/x-python",
   "name": "python",
   "nbconvert_exporter": "python",
   "pygments_lexer": "ipython3",
   "version": "3.8.10"
  }
 },
 "nbformat": 4,
 "nbformat_minor": 5
}
