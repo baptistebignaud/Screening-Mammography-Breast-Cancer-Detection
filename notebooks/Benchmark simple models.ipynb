{
 "cells": [
  {
   "cell_type": "markdown",
   "id": "4ab98e01-29d0-4566-befb-35c5ae94f261",
   "metadata": {},
   "source": [
    "# Benchmark simple models"
   ]
  },
  {
   "cell_type": "code",
   "execution_count": null,
   "id": "3c874e4c-b29a-4e05-a271-067d7f3b3c2e",
   "metadata": {},
   "outputs": [],
   "source": []
  },
  {
   "cell_type": "code",
   "execution_count": null,
   "id": "19b20ed0-8b44-4297-9382-2b37d42056e1",
   "metadata": {},
   "outputs": [],
   "source": []
  }
 ],
 "metadata": {
  "kernelspec": {
   "display_name": "Python 3 (ipykernel)",
   "language": "python",
   "name": "python3"
  },
  "language_info": {
   "codemirror_mode": {
    "name": "ipython",
    "version": 3
   },
   "file_extension": ".py",
   "mimetype": "text/x-python",
   "name": "python",
   "nbconvert_exporter": "python",
   "pygments_lexer": "ipython3",
   "version": "3.8.10"
  }
 },
 "nbformat": 4,
 "nbformat_minor": 5
}
