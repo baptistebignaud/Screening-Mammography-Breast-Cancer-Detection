{
 "cells": [
  {
   "cell_type": "markdown",
   "id": "9d4f6124-6747-4c67-b797-b54577cbc60b",
   "metadata": {},
   "source": [
    "# Import librairies"
   ]
  },
  {
   "cell_type": "code",
   "execution_count": 1,
   "id": "1bd7f3f3-ef42-4e24-8ae6-9cd8020f5230",
   "metadata": {},
   "outputs": [
    {
     "name": "stdout",
     "output_type": "stream",
     "text": [
      "PyTorch Version:  1.14.0a0+410ce96\n",
      "Torchvision Version:  0.15.0a0\n"
     ]
    }
   ],
   "source": [
    "from torch.utils.data import Dataset, DataLoader\n",
    "import numpy as np\n",
    "import pandas as pd\n",
    "import matplotlib.pyplot as plt\n",
    "import sys\n",
    "from torch.nn import BCELoss, MSELoss, Sigmoid\n",
    "from torch import optim\n",
    "from torch.nn import Conv2d\n",
    "\n",
    "from __future__ import print_function\n",
    "from __future__ import division\n",
    "import torch\n",
    "import torch.nn as nn\n",
    "import torch.optim as optim\n",
    "import torchvision\n",
    "from torchvision import datasets, models, transforms\n",
    "import time\n",
    "import os\n",
    "import copy\n",
    "\n",
    "\n",
    "import warnings\n",
    "\n",
    "warnings.filterwarnings(\"ignore\")\n",
    "\n",
    "sys.path.insert(0, \"/appli\")\n",
    "\n",
    "\n",
    "plt.rcParams[\"figure.figsize\"] = (15, 15)\n",
    "from utile.pre_processing import PreProcessingPipeline\n",
    "\n",
    "from utile.pre_processing import PreProcessingPipeline\n",
    "from utile.loaders import load_file, load_image, create_batch, RNSADataset\n",
    "from utile.models import CustomEfficientNet,train_model\n",
    "import cv2\n",
    "from utile.plot import plot_sample\n",
    "\n",
    "#%matplotlib widget\n",
    "from opencv_transforms import transforms\n",
    "\n",
    "seed = 53\n",
    "\n",
    "device = \"cuda\" if torch.cuda.is_available() else \"cpu\"\n",
    "\n",
    "print(\"PyTorch Version: \", torch.__version__)\n",
    "print(\"Torchvision Version: \", torchvision.__version__)"
   ]
  },
  {
   "cell_type": "markdown",
   "id": "191af2fd-8158-4ff7-a74f-c16d8077588e",
   "metadata": {},
   "source": [
    "# Import dataset"
   ]
  },
  {
   "cell_type": "code",
   "execution_count": 2,
   "id": "fde7d631-9a26-48ab-a444-cd83fb6770dc",
   "metadata": {},
   "outputs": [],
   "source": [
    "# Import train data\n",
    "img_path = \"../kaggle_dataset\"\n",
    "train_df = pd.read_csv(\"data/train.csv\")"
   ]
  },
  {
   "cell_type": "markdown",
   "id": "5ae221ca-7ef2-4ae2-951b-d9ee64137d45",
   "metadata": {},
   "source": [
    "# Training procedure"
   ]
  },
  {
   "cell_type": "markdown",
   "id": "bcf9cd85-d692-4bda-8c32-b1a6b4571871",
   "metadata": {},
   "source": [
    "## Define model"
   ]
  },
  {
   "cell_type": "code",
   "execution_count": 3,
   "id": "a895ffeb-e87b-4775-999e-ecec1e76f984",
   "metadata": {},
   "outputs": [
    {
     "name": "stderr",
     "output_type": "stream",
     "text": [
      "Using cache found in /root/.cache/torch/hub/NVIDIA_DeepLearningExamples_torchhub\n"
     ]
    }
   ],
   "source": [
    "efficientnet = CustomEfficientNet(n_labels=1)"
   ]
  },
  {
   "cell_type": "markdown",
   "id": "80ef1653-9ae9-4e40-b161-221a17cb2df7",
   "metadata": {},
   "source": [
    "# Define parameters"
   ]
  },
  {
   "cell_type": "code",
   "execution_count": 4,
   "id": "67838061-1a9e-463c-af6b-46639b43996a",
   "metadata": {},
   "outputs": [],
   "source": [
    "# Top level data directory. Here we assume the format of the directory conforms\n",
    "#   to the ImageFolder structure\n",
    "data_dir = \"../kaggle_dataset\"\n",
    "\n",
    "\n",
    "# Batch size for training (change depending on how much memory you have)\n",
    "batch_size = 16\n",
    "\n",
    "# Number of epochs to train for\n",
    "num_epochs = 1\n",
    "\n",
    "loss = BCELoss()\n",
    "# loss = MSELoss()\n",
    "\n",
    "# Flag for feature extracting. When False, we finetune the whole model,\n",
    "#   when True we only update the reshaped layer params\n",
    "feature_extract = True\n",
    "\n",
    "optimizer = optim.Adam(efficientnet.parameters(), lr=0.0001)"
   ]
  },
  {
   "cell_type": "markdown",
   "id": "2ac01899-6e83-4109-a447-9508c3f1db1f",
   "metadata": {},
   "source": [
    "# Dataloader"
   ]
  },
  {
   "cell_type": "code",
   "execution_count": 5,
   "id": "ea0ca90b-8a03-43d3-9ff4-036cb4b988b9",
   "metadata": {},
   "outputs": [],
   "source": [
    "transformed_dataset = RNSADataset(\n",
    "    root_dir=\"../kaggle_dataset\",\n",
    "    csv_file=\"data/train.csv\",\n",
    "    transform=transforms.Compose([PreProcessingPipeline()]),\n",
    ")"
   ]
  },
  {
   "cell_type": "code",
   "execution_count": 6,
   "id": "aef1683b-5d77-4905-bc94-f1cc01600a89",
   "metadata": {},
   "outputs": [],
   "source": [
    "dataloader = DataLoader(\n",
    "    transformed_dataset, batch_size=batch_size, shuffle=True, num_workers=4\n",
    ")"
   ]
  },
  {
   "cell_type": "markdown",
   "id": "4fd262b0-eaef-4d41-b8bd-f9ca182a52e3",
   "metadata": {},
   "source": [
    "# Run training"
   ]
  },
  {
   "cell_type": "code",
   "execution_count": null,
   "id": "456c10ba-11a1-4d42-93df-f958271bb240",
   "metadata": {},
   "outputs": [
    {
     "name": "stdout",
     "output_type": "stream",
     "text": [
      "Epoch 0/0\n",
      "----------\n",
      "Batch 103 of 3420 batches \r"
     ]
    }
   ],
   "source": [
    "train_model(\n",
    "    model=efficientnet,\n",
    "    dataloaders=dataloader,\n",
    "    criterion=loss,\n",
    "    optimizer=optimizer,\n",
    "    num_epochs=num_epochs,\n",
    ")"
   ]
  },
  {
   "cell_type": "code",
   "execution_count": null,
   "id": "95341c05-2786-4836-a6e1-c8516fcdb5c5",
   "metadata": {},
   "outputs": [],
   "source": []
  },
  {
   "cell_type": "code",
   "execution_count": null,
   "id": "211ed52f-5fce-4c4d-830d-1ee9073e84bd",
   "metadata": {},
   "outputs": [],
   "source": []
  },
  {
   "cell_type": "code",
   "execution_count": null,
   "id": "2024d18a-97a9-461b-9507-9de1c652f31d",
   "metadata": {},
   "outputs": [],
   "source": []
  }
 ],
 "metadata": {
  "kernelspec": {
   "display_name": "Python 3 (ipykernel)",
   "language": "python",
   "name": "python3"
  },
  "language_info": {
   "codemirror_mode": {
    "name": "ipython",
    "version": 3
   },
   "file_extension": ".py",
   "mimetype": "text/x-python",
   "name": "python",
   "nbconvert_exporter": "python",
   "pygments_lexer": "ipython3",
   "version": "3.8.10"
  },
  "toc-autonumbering": true
 },
 "nbformat": 4,
 "nbformat_minor": 5
}
