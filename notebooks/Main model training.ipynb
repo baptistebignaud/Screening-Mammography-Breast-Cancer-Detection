{
 "cells": [
  {
   "cell_type": "markdown",
   "id": "7c17876a-07d6-4ba2-a8e1-8274f6aa4e37",
   "metadata": {},
   "source": [
    "# Main model training"
   ]
  },
  {
   "cell_type": "code",
   "execution_count": null,
   "id": "13e13047-7fdd-43cf-8e98-376bfa576380",
   "metadata": {},
   "outputs": [],
   "source": []
  },
  {
   "cell_type": "code",
   "execution_count": null,
   "id": "dc7f9c43-44ce-42ee-889a-b819f56cdf82",
   "metadata": {},
   "outputs": [],
   "source": []
  }
 ],
 "metadata": {
  "kernelspec": {
   "display_name": "Python 3 (ipykernel)",
   "language": "python",
   "name": "python3"
  },
  "language_info": {
   "codemirror_mode": {
    "name": "ipython",
    "version": 3
   },
   "file_extension": ".py",
   "mimetype": "text/x-python",
   "name": "python",
   "nbconvert_exporter": "python",
   "pygments_lexer": "ipython3",
   "version": "3.8.10"
  }
 },
 "nbformat": 4,
 "nbformat_minor": 5
}
