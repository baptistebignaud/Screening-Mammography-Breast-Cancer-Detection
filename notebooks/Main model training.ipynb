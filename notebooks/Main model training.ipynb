{
 "cells": [
  {
   "cell_type": "markdown",
   "id": "7c17876a-07d6-4ba2-a8e1-8274f6aa4e37",
   "metadata": {},
   "source": [
    "# Main model training"
   ]
  },
  {
   "cell_type": "code",
   "execution_count": 1,
   "id": "13e13047-7fdd-43cf-8e98-376bfa576380",
   "metadata": {},
   "outputs": [
    {
     "data": {
      "text/html": [
       "<style>.container { width:99% !important; }</style>"
      ],
      "text/plain": [
       "<IPython.core.display.HTML object>"
      ]
     },
     "metadata": {},
     "output_type": "display_data"
    }
   ],
   "source": [
    "from IPython.core.display import display, HTML\n",
    "import matplotlib.pyplot as plt\n",
    "plt.style.use('fivethirtyeight')\n",
    "display(HTML(\"<style>.container { width:99% !important; }</style>\"))\n",
    "%load_ext autoreload\n",
    "%autoreload 2"
   ]
  },
  {
   "cell_type": "code",
   "execution_count": 90,
   "id": "ec3c0295",
   "metadata": {},
   "outputs": [],
   "source": [
    "import pandas as pd\n",
    "df_train = pd.read_csv('train.csv')\n",
    "df_test = pd.read_csv('test.csv')\n",
    "drop_columns = ['image_id', 'patient_id']+[c for c in df_train.columns if c not in df_test.columns and c!='cancer']\n",
    "df_train = df_train.drop(columns=drop_columns)"
   ]
  },
  {
   "cell_type": "code",
   "execution_count": 91,
   "id": "476efe72",
   "metadata": {},
   "outputs": [
    {
     "data": {
      "text/html": [
       "<div>\n",
       "<style scoped>\n",
       "    .dataframe tbody tr th:only-of-type {\n",
       "        vertical-align: middle;\n",
       "    }\n",
       "\n",
       "    .dataframe tbody tr th {\n",
       "        vertical-align: top;\n",
       "    }\n",
       "\n",
       "    .dataframe thead th {\n",
       "        text-align: right;\n",
       "    }\n",
       "</style>\n",
       "<table border=\"1\" class=\"dataframe\">\n",
       "  <thead>\n",
       "    <tr style=\"text-align: right;\">\n",
       "      <th></th>\n",
       "      <th>site_id</th>\n",
       "      <th>laterality</th>\n",
       "      <th>view</th>\n",
       "      <th>age</th>\n",
       "      <th>cancer</th>\n",
       "      <th>implant</th>\n",
       "      <th>machine_id</th>\n",
       "    </tr>\n",
       "  </thead>\n",
       "  <tbody>\n",
       "    <tr>\n",
       "      <th>30878</th>\n",
       "      <td>1</td>\n",
       "      <td>R</td>\n",
       "      <td>CC</td>\n",
       "      <td>67.0</td>\n",
       "      <td>0</td>\n",
       "      <td>0</td>\n",
       "      <td>49</td>\n",
       "    </tr>\n",
       "    <tr>\n",
       "      <th>14076</th>\n",
       "      <td>2</td>\n",
       "      <td>L</td>\n",
       "      <td>CC</td>\n",
       "      <td>54.0</td>\n",
       "      <td>0</td>\n",
       "      <td>0</td>\n",
       "      <td>21</td>\n",
       "    </tr>\n",
       "    <tr>\n",
       "      <th>48206</th>\n",
       "      <td>2</td>\n",
       "      <td>R</td>\n",
       "      <td>MLO</td>\n",
       "      <td>66.0</td>\n",
       "      <td>0</td>\n",
       "      <td>0</td>\n",
       "      <td>48</td>\n",
       "    </tr>\n",
       "    <tr>\n",
       "      <th>26796</th>\n",
       "      <td>1</td>\n",
       "      <td>R</td>\n",
       "      <td>MLO</td>\n",
       "      <td>44.0</td>\n",
       "      <td>0</td>\n",
       "      <td>0</td>\n",
       "      <td>49</td>\n",
       "    </tr>\n",
       "    <tr>\n",
       "      <th>2917</th>\n",
       "      <td>1</td>\n",
       "      <td>R</td>\n",
       "      <td>MLO</td>\n",
       "      <td>58.0</td>\n",
       "      <td>1</td>\n",
       "      <td>0</td>\n",
       "      <td>49</td>\n",
       "    </tr>\n",
       "    <tr>\n",
       "      <th>28585</th>\n",
       "      <td>2</td>\n",
       "      <td>R</td>\n",
       "      <td>CC</td>\n",
       "      <td>67.0</td>\n",
       "      <td>1</td>\n",
       "      <td>0</td>\n",
       "      <td>48</td>\n",
       "    </tr>\n",
       "    <tr>\n",
       "      <th>29733</th>\n",
       "      <td>2</td>\n",
       "      <td>R</td>\n",
       "      <td>MLO</td>\n",
       "      <td>54.0</td>\n",
       "      <td>0</td>\n",
       "      <td>0</td>\n",
       "      <td>21</td>\n",
       "    </tr>\n",
       "    <tr>\n",
       "      <th>23388</th>\n",
       "      <td>1</td>\n",
       "      <td>L</td>\n",
       "      <td>CC</td>\n",
       "      <td>61.0</td>\n",
       "      <td>1</td>\n",
       "      <td>0</td>\n",
       "      <td>49</td>\n",
       "    </tr>\n",
       "    <tr>\n",
       "      <th>44273</th>\n",
       "      <td>1</td>\n",
       "      <td>L</td>\n",
       "      <td>CC</td>\n",
       "      <td>51.0</td>\n",
       "      <td>0</td>\n",
       "      <td>0</td>\n",
       "      <td>49</td>\n",
       "    </tr>\n",
       "    <tr>\n",
       "      <th>92</th>\n",
       "      <td>1</td>\n",
       "      <td>R</td>\n",
       "      <td>CC</td>\n",
       "      <td>71.0</td>\n",
       "      <td>0</td>\n",
       "      <td>0</td>\n",
       "      <td>49</td>\n",
       "    </tr>\n",
       "  </tbody>\n",
       "</table>\n",
       "</div>"
      ],
      "text/plain": [
       "       site_id laterality view   age  cancer  implant  machine_id\n",
       "30878        1          R   CC  67.0       0        0          49\n",
       "14076        2          L   CC  54.0       0        0          21\n",
       "48206        2          R  MLO  66.0       0        0          48\n",
       "26796        1          R  MLO  44.0       0        0          49\n",
       "2917         1          R  MLO  58.0       1        0          49\n",
       "28585        2          R   CC  67.0       1        0          48\n",
       "29733        2          R  MLO  54.0       0        0          21\n",
       "23388        1          L   CC  61.0       1        0          49\n",
       "44273        1          L   CC  51.0       0        0          49\n",
       "92           1          R   CC  71.0       0        0          49"
      ]
     },
     "execution_count": 91,
     "metadata": {},
     "output_type": "execute_result"
    }
   ],
   "source": [
    "df_train.sample(10)"
   ]
  },
  {
   "cell_type": "code",
   "execution_count": 92,
   "id": "15331a38",
   "metadata": {},
   "outputs": [
    {
     "name": "stdout",
     "output_type": "stream",
     "text": [
      "site_id\n",
      "1    29519\n",
      "2    25187\n",
      "Name: site_id, dtype: int64\n",
      "\n",
      "laterality\n",
      "R    27439\n",
      "L    27267\n",
      "Name: laterality, dtype: int64\n",
      "\n",
      "view\n",
      "MLO    27903\n",
      "CC     26765\n",
      "AT        19\n",
      "LM        10\n",
      "ML         8\n",
      "LMO        1\n",
      "Name: view, dtype: int64\n",
      "\n",
      "cancer\n",
      "0    53548\n",
      "1     1158\n",
      "Name: cancer, dtype: int64\n",
      "\n",
      "implant\n",
      "0    53229\n",
      "1     1477\n",
      "Name: implant, dtype: int64\n",
      "\n",
      "machine_id\n",
      "49     23529\n",
      "48      8699\n",
      "29      8267\n",
      "21      8221\n",
      "93      1915\n",
      "216     1908\n",
      "210     1070\n",
      "170      923\n",
      "190      145\n",
      "197       29\n",
      "Name: machine_id, dtype: int64\n",
      "\n"
     ]
    }
   ],
   "source": [
    "for c in df_train.columns:\n",
    "    if c!='age':\n",
    "        print(c)\n",
    "        print(df_train[c].value_counts())\n",
    "        print()"
   ]
  },
  {
   "cell_type": "code",
   "execution_count": 95,
   "id": "4007c62a",
   "metadata": {},
   "outputs": [],
   "source": [
    "categorical = ['site_id','laterality','view','implant','machine_id']\n",
    "from sklearn.preprocessing import OneHotEncoder, OrdinalEncoder\n",
    "onehots = {c:OneHotEncoder() for c in categorical}\n",
    "import numpy as np\n",
    "for c in categorical:    \n",
    "    transform = onehots[c].fit_transform(df_train[c].values[:].reshape(-1, 1)).toarray()\n",
    "    c_name = [f'{c}_{i}' for i in range(transform.shape[1])]\n",
    "    df_train[c_name] = transform\n",
    "df_train = df_train.drop(columns=categorical)"
   ]
  },
  {
   "cell_type": "code",
   "execution_count": 101,
   "id": "d8d9eaf1",
   "metadata": {},
   "outputs": [],
   "source": [
    "!pip install xgboost\n",
    "from xgboost import XGBClassifier\n",
    "classifier = XGBClassifier()\n",
    "X_train,y_train = df_train.drop(columns=['cancer']), df_train['cancer']\n",
    "classifier.fit(X_train,y_train)"
   ]
  },
  {
   "cell_type": "code",
   "execution_count": 112,
   "id": "da5c163d",
   "metadata": {},
   "outputs": [],
   "source": [
    "## Test\n",
    "X_test = df_test[categorical+['age']]\n",
    "\n",
    "for c in categorical:\n",
    "    transform = onehots[c].transform(X_test[c].values[:].reshape(-1, 1)).toarray()\n",
    "    c_name = [f'{c}_{i}' for i in range(transform.shape[1])]\n",
    "    X_test[c_name] = transform\n",
    "X_test = X_test.drop(columns=categorical)\n",
    "\n",
    "predictions = classifier.predict(X_test)\n",
    "df_test['cancer'] = predictions\n",
    "submission = df_test[['prediction_id', 'cancer']]\n",
    "submission.to_csv('sample_submission.csv')"
   ]
  }
 ],
 "metadata": {
  "kernelspec": {
   "display_name": "Python 3 (ipykernel)",
   "language": "python",
   "name": "python3"
  },
  "language_info": {
   "codemirror_mode": {
    "name": "ipython",
    "version": 3
   },
   "file_extension": ".py",
   "mimetype": "text/x-python",
   "name": "python",
   "nbconvert_exporter": "python",
   "pygments_lexer": "ipython3",
   "version": "3.9.7"
  }
 },
 "nbformat": 4,
 "nbformat_minor": 5
}
